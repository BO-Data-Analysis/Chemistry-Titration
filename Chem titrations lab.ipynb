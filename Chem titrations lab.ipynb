{
 "cells": [
  {
   "cell_type": "code",
   "execution_count": 1,
   "id": "55c9c1da-fc13-4b7a-9674-4f68d967b7e5",
   "metadata": {
    "execution": {
     "iopub.execute_input": "2024-01-25T11:42:29.134775Z",
     "iopub.status.busy": "2024-01-25T11:42:29.130618Z",
     "iopub.status.idle": "2024-01-25T11:42:29.141036Z",
     "shell.execute_reply": "2024-01-25T11:42:29.139886Z",
     "shell.execute_reply.started": "2024-01-25T11:42:29.134582Z"
    },
    "tags": []
   },
   "outputs": [],
   "source": [
    "from matplotlib import pyplot as plt\n",
    "import numpy as np\n",
    "import pandas as pd\n",
    "\n",
    "from autogluon.tabular import TabularDataset, TabularPredictor"
   ]
  },
  {
   "cell_type": "markdown",
   "id": "bfc8c6a1",
   "metadata": {},
   "source": [
    "## Data"
   ]
  },
  {
   "cell_type": "code",
   "execution_count": 2,
   "id": "a13c7e47-d5ae-4d06-a7b4-89547f97800b",
   "metadata": {
    "execution": {
     "iopub.execute_input": "2024-01-25T10:38:44.330468Z",
     "iopub.status.busy": "2024-01-25T10:38:44.330336Z",
     "iopub.status.idle": "2024-01-25T10:38:44.334013Z",
     "shell.execute_reply": "2024-01-25T10:38:44.333492Z",
     "shell.execute_reply.started": "2024-01-25T10:38:44.330459Z"
    },
    "tags": []
   },
   "outputs": [],
   "source": [
    "pH = [3.3, 3.6, 3.9, 4.0, 4.05, 4.1, 4.15, 4.2, 4.25, 4.4, 4.75, 4.9, 4.95, 5.07, 5.15, 5.3, 5.7, 9, 10.6, 10.9, 11.05, 11.1, 11.1, 11.1, 11.15, 11.18]\n",
    "vol = [0, 4, 6.5, 7.8, 9, 10, 11, 12, 13, 14, 15, 16, 17, 18, 18.5, 19, 19.5, 20, 21, 22, 23, 24, 25, 26, 27, 30]"
   ]
  },
  {
   "cell_type": "markdown",
   "id": "1f81ebba",
   "metadata": {},
   "source": [
    "## AutoGluon Model Fitting"
   ]
  },
  {
   "cell_type": "code",
   "execution_count": 3,
   "id": "e6e953ee-3a08-4daa-b9fa-45e8067833f4",
   "metadata": {
    "execution": {
     "iopub.execute_input": "2024-01-25T11:43:30.375695Z",
     "iopub.status.busy": "2024-01-25T11:43:30.374907Z",
     "iopub.status.idle": "2024-01-25T11:43:30.385996Z",
     "shell.execute_reply": "2024-01-25T11:43:30.383260Z",
     "shell.execute_reply.started": "2024-01-25T11:43:30.375662Z"
    }
   },
   "outputs": [
    {
     "name": "stderr",
     "output_type": "stream",
     "text": [
      "No path specified. Models will be saved in: \"AutogluonModels/ag-20240924_043415/\"\n",
      "Presets specified: ['best_quality']\n",
      "Stack configuration (auto_stack=True): num_stack_levels=0, num_bag_folds=5, num_bag_sets=1\n",
      "Beginning AutoGluon training ...\n",
      "AutoGluon will save models to \"AutogluonModels/ag-20240924_043415/\"\n",
      "AutoGluon Version:  0.7.0\n",
      "Python Version:     3.9.15\n",
      "Operating System:   Darwin\n",
      "Platform Machine:   arm64\n",
      "Platform Version:   Darwin Kernel Version 23.6.0: Mon Jul 29 21:14:30 PDT 2024; root:xnu-10063.141.2~1/RELEASE_ARM64_T6000\n",
      "Train Data Rows:    26\n",
      "Train Data Columns: 1\n",
      "Label Column: pH\n",
      "Preprocessing data ...\n",
      "AutoGluon infers your prediction problem is: 'regression' (because dtype of label-column == float and many unique label-values observed).\n",
      "\tLabel info (max, min, mean, stddev): (11.18, 3.3, 6.65192, 3.14456)\n",
      "\tIf 'regression' is not the correct problem_type, please manually specify the problem_type parameter during predictor init (You may specify problem_type as one of: ['binary', 'multiclass', 'regression'])\n",
      "Using Feature Generators to preprocess the data ...\n",
      "Fitting AutoMLPipelineFeatureGenerator...\n",
      "\tAvailable Memory:                    5260.33 MB\n",
      "\tTrain Data (Original)  Memory Usage: 0.0 MB (0.0% of available memory)\n",
      "\tInferring data type of each feature based on column values. Set feature_metadata_in to manually specify special dtypes of the features.\n",
      "\tStage 1 Generators:\n",
      "\t\tFitting AsTypeFeatureGenerator...\n",
      "\tStage 2 Generators:\n",
      "\t\tFitting FillNaFeatureGenerator...\n",
      "\tStage 3 Generators:\n",
      "\t\tFitting IdentityFeatureGenerator...\n",
      "\tStage 4 Generators:\n",
      "\t\tFitting DropUniqueFeatureGenerator...\n",
      "\tTypes of features in original data (raw dtype, special dtypes):\n",
      "\t\t('float', []) : 1 | ['vol']\n",
      "\tTypes of features in processed data (raw dtype, special dtypes):\n",
      "\t\t('float', []) : 1 | ['vol']\n",
      "\t0.0s = Fit runtime\n",
      "\t1 features in original data used to generate 1 features in processed data.\n",
      "\tTrain Data (Processed) Memory Usage: 0.0 MB (0.0% of available memory)\n",
      "Data preprocessing and feature engineering runtime = 0.07s ...\n",
      "AutoGluon will gauge predictive performance using evaluation metric: 'root_mean_squared_error'\n",
      "\tThis metric's sign has been flipped to adhere to being higher_is_better. The metric score can be multiplied by -1 to get the metric value.\n",
      "\tTo change this, specify the eval_metric parameter of Predictor()\n",
      "Fitting 11 L1 models ...\n",
      "Fitting model: KNeighborsUnif_BAG_L1 ...\n",
      "\t-0.823\t = Validation score   (-root_mean_squared_error)\n",
      "\t0.0s\t = Training   runtime\n",
      "\t0.03s\t = Validation runtime\n",
      "Fitting model: KNeighborsDist_BAG_L1 ...\n",
      "\t-0.7282\t = Validation score   (-root_mean_squared_error)\n",
      "\t0.0s\t = Training   runtime\n",
      "\t0.0s\t = Validation runtime\n",
      "Fitting model: LightGBMXT_BAG_L1 ...\n",
      "\tWill use sequential fold fitting strategy because Darwin OS does not yet support parallel folding.\n",
      "\tFitting 5 child models (S1F1 - S1F5) | Fitting with SequentialLocalFoldFittingStrategy\n",
      "\tWarning: Exception caused LightGBMXT_BAG_L1 to fail during training (ImportError)... Skipping this model.\n",
      "\t\t`import lightgbm` failed. A quick tip is to install via `pip install autogluon.tabular[lightgbm]==0.7.0`.\n",
      "Fitting model: LightGBM_BAG_L1 ...\n",
      "\tFitting 5 child models (S1F1 - S1F5) | Fitting with SequentialLocalFoldFittingStrategy\n",
      "\tWarning: Exception caused LightGBM_BAG_L1 to fail during training (ImportError)... Skipping this model.\n",
      "\t\t`import lightgbm` failed. A quick tip is to install via `pip install autogluon.tabular[lightgbm]==0.7.0`.\n",
      "Fitting model: RandomForestMSE_BAG_L1 ...\n",
      "\t-0.7129\t = Validation score   (-root_mean_squared_error)\n",
      "\t2.4s\t = Training   runtime\n",
      "\t0.03s\t = Validation runtime\n",
      "Fitting model: CatBoost_BAG_L1 ...\n",
      "\tFitting 5 child models (S1F1 - S1F5) | Fitting with SequentialLocalFoldFittingStrategy\n",
      "\t-0.8706\t = Validation score   (-root_mean_squared_error)\n",
      "\t1.81s\t = Training   runtime\n",
      "\t0.0s\t = Validation runtime\n",
      "Fitting model: ExtraTreesMSE_BAG_L1 ...\n",
      "\t-0.5644\t = Validation score   (-root_mean_squared_error)\n",
      "\t0.16s\t = Training   runtime\n",
      "\t0.03s\t = Validation runtime\n",
      "Fitting model: NeuralNetFastAI_BAG_L1 ...\n",
      "\tFitting 5 child models (S1F1 - S1F5) | Fitting with SequentialLocalFoldFittingStrategy\n",
      "\tWarning: Exception caused NeuralNetFastAI_BAG_L1 to fail during training (ImportError)... Skipping this model.\n",
      "\t\tImport fastai failed. A quick tip is to install via `pip install autogluon.tabular[fastai]==0.7.0`. \n",
      "Fitting model: XGBoost_BAG_L1 ...\n",
      "\tFitting 5 child models (S1F1 - S1F5) | Fitting with SequentialLocalFoldFittingStrategy\n",
      "\t-1.7701\t = Validation score   (-root_mean_squared_error)\n",
      "\t0.44s\t = Training   runtime\n",
      "\t0.01s\t = Validation runtime\n",
      "Fitting model: NeuralNetTorch_BAG_L1 ...\n",
      "\tFitting 5 child models (S1F1 - S1F5) | Fitting with SequentialLocalFoldFittingStrategy\n",
      "\t-0.7251\t = Validation score   (-root_mean_squared_error)\n",
      "\t0.92s\t = Training   runtime\n",
      "\t0.01s\t = Validation runtime\n",
      "Fitting model: LightGBMLarge_BAG_L1 ...\n",
      "\tFitting 5 child models (S1F1 - S1F5) | Fitting with SequentialLocalFoldFittingStrategy\n",
      "\tWarning: Exception caused LightGBMLarge_BAG_L1 to fail during training (ImportError)... Skipping this model.\n",
      "\t\t`import lightgbm` failed. A quick tip is to install via `pip install autogluon.tabular[lightgbm]==0.7.0`.\n",
      "Fitting model: WeightedEnsemble_L2 ...\n",
      "\t-0.5643\t = Validation score   (-root_mean_squared_error)\n",
      "\t0.07s\t = Training   runtime\n",
      "\t0.0s\t = Validation runtime\n",
      "AutoGluon training complete, total runtime = 8.64s ... Best model: \"WeightedEnsemble_L2\"\n",
      "TabularPredictor saved. To load, use: predictor = TabularPredictor.load(\"AutogluonModels/ag-20240924_043415/\")\n"
     ]
    }
   ],
   "source": [
    "df = pd.DataFrame({\"vol\": vol, \"pH\": pH})\n",
    "df2 = pd.DataFrame({\"vol\": np.linspace(0, 30, 100)})\n",
    "predictor = TabularPredictor(label=\"pH\").fit(df, presets = \"best_quality\")"
   ]
  },
  {
   "cell_type": "code",
   "execution_count": 4,
   "id": "425ca5fe-6239-415b-945e-b1457ec6af0a",
   "metadata": {
    "execution": {
     "iopub.execute_input": "2024-01-25T11:47:13.751283Z",
     "iopub.status.busy": "2024-01-25T11:47:13.750601Z",
     "iopub.status.idle": "2024-01-25T11:47:13.770209Z",
     "shell.execute_reply": "2024-01-25T11:47:13.769620Z",
     "shell.execute_reply.started": "2024-01-25T11:47:13.751234Z"
    },
    "tags": []
   },
   "outputs": [
    {
     "data": {
      "text/html": [
       "<div>\n",
       "<style scoped>\n",
       "    .dataframe tbody tr th:only-of-type {\n",
       "        vertical-align: middle;\n",
       "    }\n",
       "\n",
       "    .dataframe tbody tr th {\n",
       "        vertical-align: top;\n",
       "    }\n",
       "\n",
       "    .dataframe thead th {\n",
       "        text-align: right;\n",
       "    }\n",
       "</style>\n",
       "<table border=\"1\" class=\"dataframe\">\n",
       "  <thead>\n",
       "    <tr style=\"text-align: right;\">\n",
       "      <th></th>\n",
       "      <th>vol</th>\n",
       "    </tr>\n",
       "  </thead>\n",
       "  <tbody>\n",
       "    <tr>\n",
       "      <th>0</th>\n",
       "      <td>0.000000</td>\n",
       "    </tr>\n",
       "    <tr>\n",
       "      <th>1</th>\n",
       "      <td>0.303030</td>\n",
       "    </tr>\n",
       "    <tr>\n",
       "      <th>2</th>\n",
       "      <td>0.606061</td>\n",
       "    </tr>\n",
       "    <tr>\n",
       "      <th>3</th>\n",
       "      <td>0.909091</td>\n",
       "    </tr>\n",
       "    <tr>\n",
       "      <th>4</th>\n",
       "      <td>1.212121</td>\n",
       "    </tr>\n",
       "    <tr>\n",
       "      <th>...</th>\n",
       "      <td>...</td>\n",
       "    </tr>\n",
       "    <tr>\n",
       "      <th>95</th>\n",
       "      <td>28.787879</td>\n",
       "    </tr>\n",
       "    <tr>\n",
       "      <th>96</th>\n",
       "      <td>29.090909</td>\n",
       "    </tr>\n",
       "    <tr>\n",
       "      <th>97</th>\n",
       "      <td>29.393939</td>\n",
       "    </tr>\n",
       "    <tr>\n",
       "      <th>98</th>\n",
       "      <td>29.696970</td>\n",
       "    </tr>\n",
       "    <tr>\n",
       "      <th>99</th>\n",
       "      <td>30.000000</td>\n",
       "    </tr>\n",
       "  </tbody>\n",
       "</table>\n",
       "<p>100 rows × 1 columns</p>\n",
       "</div>"
      ],
      "text/plain": [
       "          vol\n",
       "0    0.000000\n",
       "1    0.303030\n",
       "2    0.606061\n",
       "3    0.909091\n",
       "4    1.212121\n",
       "..        ...\n",
       "95  28.787879\n",
       "96  29.090909\n",
       "97  29.393939\n",
       "98  29.696970\n",
       "99  30.000000\n",
       "\n",
       "[100 rows x 1 columns]"
      ]
     },
     "metadata": {},
     "output_type": "display_data"
    }
   ],
   "source": [
    "y_pred = predictor.predict(df2)\n",
    "display(df2)"
   ]
  },
  {
   "cell_type": "markdown",
   "id": "557b2acf",
   "metadata": {},
   "source": [
    "## Data Vizualization"
   ]
  },
  {
   "cell_type": "code",
   "execution_count": 8,
   "id": "c2109e74-be19-4277-b6b5-8f19c5d63016",
   "metadata": {
    "execution": {
     "iopub.execute_input": "2024-01-25T12:14:15.949955Z",
     "iopub.status.busy": "2024-01-25T12:14:15.949199Z",
     "iopub.status.idle": "2024-01-25T12:14:16.721714Z",
     "shell.execute_reply": "2024-01-25T12:14:16.721231Z",
     "shell.execute_reply.started": "2024-01-25T12:14:15.949920Z"
    },
    "tags": []
   },
   "outputs": [
    {
     "data": {
      "image/png": "[encoded data removed]",
      "text/plain": [
       "<Figure size 700x700 with 1 Axes>"
      ]
     },
     "metadata": {},
     "output_type": "display_data"
    }
   ],
   "source": [
    "plt.style.use(\"https://github.com/dhaitz/matplotlib-stylesheets/raw/master/pitayasmoothie-dark.mplstyle\")\n",
    "plt.figure(figsize=(7, 7))\n",
    "x = np.linspace(0, 30, 100)\n",
    "plt.plot(x, list(y_pred), color='#A267F5', alpha=0.5)\n",
    "plt.text(19.8, 11.5, r'AutoGluon regression line', fontsize=11, color=\"#A267F5\", alpha=0.8)\n",
    "plt.scatter(vol, pH)\n",
    "plt.axhline(7.9, color='#f62196', alpha=0.5)\n",
    "plt.text(25.5, 8.15, r'equivalence', fontsize=11, color=\"#f62196\", alpha=0.8)\n",
    "plt.axhline(4.1, color='#ffe46b', alpha=0.5)\n",
    "plt.text(18.3, 3.55, r'experimental half equivalence', fontsize=11, color=\"#ffe46b\", alpha=0.8)\n",
    "plt.axhline(4.76, color='#ffe46b', alpha=0.5)\n",
    "plt.text(0.0, 5.05, r'pKa calculated half equivalence', fontsize=11, color=\"#ffe46b\", alpha=0.8)\n",
    "plt.yticks([tick for tick in range(0,15)])\n",
    "plt.ylim([0, 14])\n",
    "plt.xlabel(\"Volume of NaOH Added (mL)\")\n",
    "plt.ylabel(\"pH of (Vinegar) Solution\")\n",
    "plt.title(\"pH of Vinegar Solution Based on Volume of NaOH Added\")\n",
    "plt.grid()\n",
    "plt.grid()\n",
    "plt.savefig('ChemTitrations.png')\n",
    "plt.show()"
   ]
  },
  {
   "cell_type": "code",
   "execution_count": null,
   "id": "f0c3da2a",
   "metadata": {},
   "outputs": [],
   "source": []
  }
 ],
 "metadata": {
  "kernelspec": {
   "display_name": "Python 3 (ipykernel)",
   "language": "python",
   "name": "python3"
  },
  "language_info": {
   "codemirror_mode": {
    "name": "ipython",
    "version": 3
   },
   "file_extension": ".py",
   "mimetype": "text/x-python",
   "name": "python",
   "nbconvert_exporter": "python",
   "pygments_lexer": "ipython3",
   "version": "3.9.15"
  }
 },
 "nbformat": 4,
 "nbformat_minor": 5
}
